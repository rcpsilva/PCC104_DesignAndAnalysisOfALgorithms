{
 "cells": [
  {
   "cell_type": "code",
   "execution_count": 2,
   "metadata": {},
   "outputs": [],
   "source": [
    "import random\n",
    "\n",
    "def split_students(n, m):\n",
    "    \"\"\"\n",
    "    Randomly split n students into groups A and B, m times.\n",
    "    Each student must appear in groups A and B, roughly the same amount of times.\n",
    "    Returns a list of tuples, where each tuple represents a student and their group for each round.\n",
    "    \"\"\"\n",
    "\n",
    "    # Create a list of students\n",
    "    students = [i for i in range(1, n+1)]\n",
    "\n",
    "    # Create a dictionary to keep track of each student's count in each group\n",
    "    counts = {i: {'A': 0, 'B': 0} for i in students}\n",
    "\n",
    "    # Create a list to store the results\n",
    "    results = []\n",
    "\n",
    "    # Iterate m times\n",
    "    for i in range(m):\n",
    "\n",
    "        # Shuffle the list of students\n",
    "        random.shuffle(students)\n",
    "\n",
    "        # Split the students into two groups\n",
    "        group_a = students[:n//2]\n",
    "        group_b = students[n//2:]\n",
    "\n",
    "        # Update the counts for each student in each group\n",
    "        for student in group_a:\n",
    "            counts[student]['A'] += 1\n",
    "        for student in group_b:\n",
    "            counts[student]['B'] += 1\n",
    "\n",
    "        # Add the results to the list\n",
    "        round_results = [(student, 'A') for student in group_a] + [(student, 'B') for student in group_b]\n",
    "        results.append(round_results)\n",
    "\n",
    "    # Check that each student has been in group A and group B roughly the same amount of times\n",
    "    for student in counts:\n",
    "        if abs(counts[student]['A'] - counts[student]['B']) > m//2:\n",
    "            print(f\"Warning: Student {student} has been in group A {counts[student]['A']} times and in group B {counts[student]['B']} times.\")\n",
    "\n",
    "    return results"
   ]
  },
  {
   "cell_type": "code",
   "execution_count": 7,
   "metadata": {},
   "outputs": [
    {
     "name": "stdout",
     "output_type": "stream",
     "text": [
      "Warning: Student 2 has been in group A 1 times and in group B 6 times.\n",
      "Warning: Student 8 has been in group A 6 times and in group B 1 times.\n",
      "Warning: Student 17 has been in group A 0 times and in group B 7 times.\n"
     ]
    }
   ],
   "source": [
    "results = split_students(17, 7)"
   ]
  },
  {
   "cell_type": "code",
   "execution_count": 8,
   "metadata": {},
   "outputs": [
    {
     "name": "stdout",
     "output_type": "stream",
     "text": [
      "[(15, 'A'), (6, 'A'), (16, 'A'), (8, 'A'), (4, 'A'), (10, 'A'), (14, 'A'), (5, 'A'), (7, 'B'), (17, 'B'), (2, 'B'), (3, 'B'), (9, 'B'), (13, 'B'), (12, 'B'), (1, 'B'), (11, 'B')]\n",
      "[(11, 'A'), (4, 'A'), (7, 'A'), (15, 'A'), (1, 'A'), (6, 'A'), (8, 'A'), (5, 'A'), (9, 'B'), (17, 'B'), (2, 'B'), (13, 'B'), (12, 'B'), (14, 'B'), (16, 'B'), (3, 'B'), (10, 'B')]\n",
      "[(8, 'A'), (10, 'A'), (3, 'A'), (12, 'A'), (1, 'A'), (6, 'A'), (13, 'A'), (16, 'A'), (7, 'B'), (14, 'B'), (9, 'B'), (17, 'B'), (15, 'B'), (5, 'B'), (4, 'B'), (11, 'B'), (2, 'B')]\n",
      "[(11, 'A'), (12, 'A'), (1, 'A'), (10, 'A'), (5, 'A'), (14, 'A'), (9, 'A'), (3, 'A'), (17, 'B'), (8, 'B'), (2, 'B'), (6, 'B'), (13, 'B'), (16, 'B'), (15, 'B'), (7, 'B'), (4, 'B')]\n",
      "[(2, 'A'), (9, 'A'), (15, 'A'), (11, 'A'), (10, 'A'), (16, 'A'), (6, 'A'), (8, 'A'), (12, 'B'), (13, 'B'), (1, 'B'), (3, 'B'), (7, 'B'), (14, 'B'), (17, 'B'), (5, 'B'), (4, 'B')]\n",
      "[(8, 'A'), (7, 'A'), (11, 'A'), (3, 'A'), (15, 'A'), (14, 'A'), (6, 'A'), (9, 'A'), (13, 'B'), (16, 'B'), (5, 'B'), (17, 'B'), (10, 'B'), (12, 'B'), (2, 'B'), (4, 'B'), (1, 'B')]\n",
      "[(4, 'A'), (11, 'A'), (8, 'A'), (16, 'A'), (9, 'A'), (13, 'A'), (3, 'A'), (10, 'A'), (7, 'B'), (5, 'B'), (6, 'B'), (15, 'B'), (12, 'B'), (1, 'B'), (14, 'B'), (17, 'B'), (2, 'B')]\n"
     ]
    }
   ],
   "source": [
    "for r in results:\n",
    "    print(r)"
   ]
  },
  {
   "cell_type": "code",
   "execution_count": null,
   "metadata": {},
   "outputs": [],
   "source": []
  }
 ],
 "metadata": {
  "kernelspec": {
   "display_name": "Python 3",
   "language": "python",
   "name": "python3"
  },
  "language_info": {
   "codemirror_mode": {
    "name": "ipython",
    "version": 3
   },
   "file_extension": ".py",
   "mimetype": "text/x-python",
   "name": "python",
   "nbconvert_exporter": "python",
   "pygments_lexer": "ipython3",
   "version": "3.11.1"
  },
  "orig_nbformat": 4
 },
 "nbformat": 4,
 "nbformat_minor": 2
}
