{
 "cells": [
  {
   "cell_type": "code",
   "execution_count": 36,
   "metadata": {},
   "outputs": [],
   "source": [
    "import random\n",
    "\n",
    "def split_students(n, m):\n",
    "    # Initialize an empty list to store the groups\n",
    "    groups_list = []\n",
    "\n",
    "    # Repeat the process 'm' times\n",
    "    for i in range(m):\n",
    "        # Create two empty sets to represent the two groups\n",
    "        group_a = set()\n",
    "        group_b = set()\n",
    "\n",
    "        # Create a list of student IDs\n",
    "        students = list(range(1, n + 1))\n",
    "\n",
    "        # Shuffle the list of student IDs randomly\n",
    "        random.shuffle(students)\n",
    "\n",
    "        # Alternate between adding students to group A and group B, so that each group ends up with roughly the same number of students\n",
    "        for j, student in enumerate(students):\n",
    "            if j % 2 == 0:\n",
    "                group_a.add(student)\n",
    "            else:\n",
    "                group_b.add(student)\n",
    "\n",
    "        # Add the two groups to the list of groups\n",
    "        groups_list.append({'A': group_a, 'B': group_b})\n",
    "\n",
    "    # Return the list of groups\n",
    "    return groups_list\n"
   ]
  },
  {
   "cell_type": "code",
   "execution_count": 40,
   "metadata": {},
   "outputs": [
    {
     "name": "stdout",
     "output_type": "stream",
     "text": [
      "Split 1: {'A': {2, 3, 5, 7, 9, 10, 12, 13, 15}, 'B': {1, 4, 6, 8, 11, 14, 16, 17}}\n",
      "Split 2: {'A': {1, 4, 5, 6, 7, 9, 11, 12, 17}, 'B': {2, 3, 8, 10, 13, 14, 15, 16}}\n",
      "Split 3: {'A': {3, 4, 5, 8, 11, 12, 13, 14, 17}, 'B': {1, 2, 6, 7, 9, 10, 15, 16}}\n",
      "Split 4: {'A': {1, 4, 6, 7, 8, 9, 12, 15, 16}, 'B': {2, 3, 5, 10, 11, 13, 14, 17}}\n",
      "Split 5: {'A': {1, 3, 4, 6, 8, 9, 11, 13, 14}, 'B': {2, 5, 7, 10, 12, 15, 16, 17}}\n",
      "Split 6: {'A': {1, 2, 9, 11, 12, 13, 14, 15, 17}, 'B': {3, 4, 5, 6, 7, 8, 10, 16}}\n",
      "Split 7: {'A': {2, 3, 6, 7, 8, 9, 10, 12, 14}, 'B': {1, 4, 5, 11, 13, 15, 16, 17}}\n"
     ]
    }
   ],
   "source": [
    "n = 17  # number of students\n",
    "m = 7  # number of splits\n",
    "\n",
    "groups_list = split_students(n, m)\n",
    "for i, groups in enumerate(groups_list):\n",
    "    print(f\"Split {i+1}: {groups}\")\n"
   ]
  },
  {
   "cell_type": "code",
   "execution_count": null,
   "metadata": {},
   "outputs": [],
   "source": []
  }
 ],
 "metadata": {
  "kernelspec": {
   "display_name": "Python 3",
   "language": "python",
   "name": "python3"
  },
  "language_info": {
   "codemirror_mode": {
    "name": "ipython",
    "version": 3
   },
   "file_extension": ".py",
   "mimetype": "text/x-python",
   "name": "python",
   "nbconvert_exporter": "python",
   "pygments_lexer": "ipython3",
   "version": "3.11.1"
  },
  "orig_nbformat": 4
 },
 "nbformat": 4,
 "nbformat_minor": 2
}
